{
 "cells": [
  {
   "cell_type": "markdown",
   "metadata": {
    "cell_id": "6268cc1e2b2f4805ad3658338d76fd8f",
    "deepnote_cell_type": "text-cell-h1",
    "formattedRanges": []
   },
   "source": [
    "# Simulación (75.26-95.19) - Trabajo práctico #1"
   ]
  },
  {
   "cell_type": "markdown",
   "metadata": {
    "cell_id": "1b4c7f5ade0b4af494add6b0db26f300",
    "deepnote_cell_type": "markdown"
   },
   "source": [
    "**-Integrantes del equipo:**\n",
    "\n",
    "| Nombre           | Apellido      | Padrón |Correo electrónico\n",
    "|------------------|---------------|--------|------------------\n",
    "| Kevin Mateo      | Spasiuk       | 99849|kevin_spasiuk@hotmail.com\n",
    "| Leonel Ezequiel  | Gonzales      |        | leogonzalez@fi.uba.ar\n",
    "| Alexander Carlos | Villa Jimenez | 95428  | avilla@fi.uba.ar\n",
    "| Víctor Manuel    | Zacaría Rojas | 107080 | vzacarias@fi.uba.ar\n"
   ]
  },
  {
   "cell_type": "markdown",
   "metadata": {
    "cell_id": "b87876b6763846c882cabf04e67d47cf",
    "deepnote_app_block_visible": false,
    "deepnote_cell_type": "text-cell-h2",
    "formattedRanges": [
     {
      "fromCodePoint": 0,
      "marks": {
       "bold": true
      },
      "toCodePoint": 63,
      "type": "marks"
     }
    ],
    "is_collapsed": false
   },
   "source": [
    "## Elección e implementación de un generador de números aleatorios "
   ]
  },
  {
   "cell_type": "markdown",
   "metadata": {
    "cell_id": "df438faee11c47c093d9d033c5723e2d",
    "deepnote_cell_type": "text-cell-p",
    "formattedRanges": []
   },
   "source": [
    "Para este punto se requería seleccionar un generador de números aleatorios basado en una distribución uniforme e implementarlo. El objetivo fue el de aplicar distintos análisis a muestra de números generadas por el generador."
   ]
  },
  {
   "cell_type": "markdown",
   "metadata": {
    "cell_id": "13f93afaba4b4344bd8dac7d5402c1b0",
    "deepnote_cell_type": "text-cell-p",
    "formattedRanges": []
   },
   "source": [
    "El generador seleccionado es la variante  PCG-RXS-M-XS del generador PCG."
   ]
  },
  {
   "cell_type": "markdown",
   "metadata": {
    "cell_id": "9c3bdcc1ad79477399587c50057f8eb8",
    "deepnote_app_block_visible": false,
    "deepnote_cell_type": "text-cell-h3",
    "formattedRanges": [
     {
      "fromCodePoint": 0,
      "marks": {
       "bold": true
      },
      "toCodePoint": 14,
      "type": "marks"
     }
    ],
    "is_collapsed": false
   },
   "source": [
    "### Implementación"
   ]
  },
  {
   "cell_type": "markdown",
   "metadata": {
    "cell_id": "daa31651c2454f13814997d4e7583aad",
    "deepnote_cell_type": "text-cell-p",
    "formattedRanges": []
   },
   "source": [
    "La variante PCG-RXS-M-XS del generador PCG genera 32 bits de aleatorieddad a partir de 32 bits de estado, tomando como base un generador congruente lineal. "
   ]
  },
  {
   "cell_type": "code",
   "execution_count": 1,
   "metadata": {
    "cell_id": "321b8daf80db4c48a7c006765d4d8348",
    "deepnote_cell_type": "code",
    "deepnote_to_be_reexecuted": false,
    "execution_context_id": "ea4c016d-158f-4035-8f14-cec70b23dd7a",
    "execution_millis": 1436,
    "execution_start": 1727628057980,
    "source_hash": "61cae6b4"
   },
   "outputs": [],
   "source": [
    "#Se importan la bibliotecas necesarias\n",
    "import numpy as np\n",
    "from scipy.stats import chi2\n",
    "import matplotlib.pyplot as plt\n",
    "from scipy import stats\n",
    "import numpy as np\n",
    "import math\n",
    "from decimal import Decimal, getcontext, ROUND_DOWN\n",
    "\n",
    "sum = __builtins__.sum"
   ]
  },
  {
   "cell_type": "code",
   "execution_count": 2,
   "metadata": {
    "cell_id": "fa8860542ac24f1b84d47f96fad68fde",
    "deepnote_cell_type": "code",
    "deepnote_to_be_reexecuted": false,
    "execution_context_id": "ea4c016d-158f-4035-8f14-cec70b23dd7a",
    "execution_millis": 1,
    "execution_start": 1727628059463,
    "source_hash": "6698fb22"
   },
   "outputs": [],
   "source": [
    "# Del paper: We will use the top three bits to choose members of a family of eight permutations, but this time \n",
    "#the permutation is an xorshift\n",
    "def primeros_tres_bits(numero):\n",
    "    return (numero >> (numero.bit_length() - 3)) & 0b111"
   ]
  },
  {
   "cell_type": "code",
   "execution_count": 3,
   "metadata": {
    "cell_id": "3bbbe4cc5b5b418b85a222947f9b6266",
    "deepnote_cell_type": "code",
    "deepnote_to_be_reexecuted": false,
    "execution_context_id": "ea4c016d-158f-4035-8f14-cec70b23dd7a",
    "execution_millis": 1,
    "execution_start": 1727628059515,
    "source_hash": "e36484fc"
   },
   "outputs": [],
   "source": [
    "#Parametros generales del generador\n",
    "seed = 10  \n",
    "m = 2**32 \n",
    "a = 1664525  \n",
    "c = 1013904223  \n",
    "n = 1000000\n",
    "\n",
    "# Generador PCG-RXS-M-XS\n",
    "def pcg_rxs_m_xs(n):\n",
    "    # Primer paso: random xorshift\n",
    "\n",
    "    '''obtenemos los primeros 3 bits del state:\n",
    "    Del paper:\n",
    "    We will use the top three bits to choose members of a family of eight permutations, \n",
    "    but this time the permutation is an xorshift\n",
    "    we will use the top t bits two ways at once—we will use them to both define \n",
    "    how much of an xorshift to apply and also to be part of the xorshift itself\n",
    "    En la fórmula es c\n",
    "    '''\n",
    "    c = primeros_tres_bits(n)\n",
    "    xorshifted = n ^ (n >> c) \n",
    "\n",
    "    '''\n",
    "    defino un r = 17 (debe pertenecera 2^32-c)\n",
    "    '''\n",
    "    r= 17\n",
    "    xorshifted ^= (xorshifted << r)  \n",
    "\n",
    "    ''' ultimo xorsfhit de \n",
    "    (c≪(r−c))\n",
    "    '''\n",
    "    xorshifted ^= (xorshifted >> (r - c))    \n",
    "\n",
    "\n",
    "    # Multiplicación para mejorar los bits superiores\n",
    "    multiplied = (xorshifted * a + c) & 0xFFFFFFFF  #nos aseguramos que sea de 32 bits\n",
    "\n",
    "    # tercer paso: xorshift para mejorar los bits inferiiores\n",
    "    result = multiplied ^ (multiplied >> 15)\n",
    "    return result"
   ]
  },
  {
   "cell_type": "code",
   "execution_count": 4,
   "metadata": {
    "cell_id": "954617164b1d4a1e80d2598b492e91e8",
    "deepnote_cell_type": "code",
    "deepnote_to_be_reexecuted": false,
    "execution_context_id": "ea4c016d-158f-4035-8f14-cec70b23dd7a",
    "execution_millis": 1,
    "execution_start": 1727628059563,
    "source_hash": "c1b350c4"
   },
   "outputs": [],
   "source": [
    "# Generador de muestras de distintos tamaños. n es el tamano de la muestra. una misma semilla \n",
    "# siempre generara la misma muestra.\n",
    "def generar_lote_de_numeros_aleatorios(n, seed):\n",
    "    numeros = []\n",
    "    x = seed\n",
    "    for _ in range(n):\n",
    "        #Se usa el generador congruente lineal para generar una muestra inicial de numeros.\n",
    "        x = (a * x + c) % m  \n",
    "        #Se ajusta la muestra aplicando la variante de PSG.\n",
    "        pcg_num = pcg_rxs_m_xs(x) / float(2**32)  # Generar y  escalar a ([0, 1) con 2^32\n",
    "        numeros.append(pcg_num)\n",
    "    \n",
    "    return numeros\n"
   ]
  },
  {
   "cell_type": "markdown",
   "metadata": {
    "cell_id": "97c729bdfff64412b96a84d7c3936141",
    "deepnote_cell_type": "text-cell-p",
    "formattedRanges": [
     {
      "fromCodePoint": 34,
      "marks": {
       "code": true
      },
      "toCodePoint": 36,
      "type": "marks"
     },
     {
      "fromCodePoint": 38,
      "marks": {
       "code": true
      },
      "toCodePoint": 42,
      "type": "marks"
     }
    ]
   },
   "source": [
    "El generador genera números entre 0 y 2^32. Es de nuestro interés que dichos números se encuentren entre cero (0) y uno (1), por lo que se los escala para tal fin."
   ]
  },
  {
   "cell_type": "markdown",
   "metadata": {
    "cell_id": "1be669a2d7a940fa8ca0a4fc76775934",
    "deepnote_app_block_visible": false,
    "deepnote_cell_type": "text-cell-h3",
    "formattedRanges": [
     {
      "fromCodePoint": 0,
      "marks": {
       "bold": true
      },
      "toCodePoint": 79,
      "type": "marks"
     }
    ],
    "is_collapsed": false
   },
   "source": [
    "### Análisis de la distribución de una muestra de números generada por el generador"
   ]
  },
  {
   "cell_type": "code",
   "execution_count": 5,
   "metadata": {
    "cell_id": "a5d404f16d7d46c59f2a1a228d59cc2f",
    "deepnote_cell_type": "code",
    "deepnote_to_be_reexecuted": false,
    "execution_context_id": "ea4c016d-158f-4035-8f14-cec70b23dd7a",
    "execution_millis": 1194,
    "execution_start": 1727628059615,
    "source_hash": "a4090980"
   },
   "outputs": [],
   "source": [
    "# Muestra de un millon de números:\n",
    "numeros = generar_lote_de_numeros_aleatorios(n, seed)"
   ]
  },
  {
   "cell_type": "markdown",
   "metadata": {
    "cell_id": "0d02cf4509d74e7799b680b8cc136ad0",
    "deepnote_cell_type": "text-cell-p",
    "formattedRanges": []
   },
   "source": [
    "Para analizar la distribución de la muestra se hizo uso de un histograma a partir de un muestra de un millón de números."
   ]
  },
  {
   "cell_type": "code",
   "execution_count": 6,
   "metadata": {
    "cell_id": "835b290aea79498db34157b15a15c077",
    "deepnote_cell_type": "code",
    "deepnote_to_be_reexecuted": false,
    "execution_context_id": "ea4c016d-158f-4035-8f14-cec70b23dd7a",
    "execution_millis": 2450,
    "execution_start": 1727628060860,
    "source_hash": "3bf2492"
   },
   "outputs": [
    {
     "data": {
      "image/png": "[encoded data removed]",
      "text/plain": [
       "<Figure size 640x480 with 1 Axes>"
      ]
     },
     "metadata": {
      "image/png": {
       "height": 455,
       "width": 597
      }
     },
     "output_type": "display_data"
    },
    {
     "name": "stdout",
     "output_type": "stream",
     "text": [
      "[100070. 100160.  99578. 100381.  99460. 100379.  99688. 100379.  99717.\n",
      " 100188.]\n"
     ]
    }
   ],
   "source": [
    "bin_count, bin_edges, _ = plt.hist(numeros, bins=10, edgecolor='black')\n",
    "plt.title('Histograma de random_numbers')\n",
    "plt.xlabel('Valor')\n",
    "plt.ylabel('Frecuencia')\n",
    "plt.show()\n",
    "#mostramos cuantos elementos hay en cada bin\n",
    "print(bin_count)"
   ]
  },
  {
   "cell_type": "markdown",
   "metadata": {
    "cell_id": "5a33b8a173dc4212b7fad3c7196948d5",
    "deepnote_cell_type": "text-cell-p",
    "formattedRanges": []
   },
   "source": [
    "Como se puede apreciar, la muestra de los números parece estar efectivamente distribuida de forma uniforme, lo que sirve como hipótesis para próximos análisis."
   ]
  },
  {
   "cell_type": "markdown",
   "metadata": {
    "cell_id": "a209151803d74a119c7c5ec00544d86a",
    "deepnote_cell_type": "text-cell-h2",
    "formattedRanges": [
     {
      "fromCodePoint": 0,
      "marks": {
       "bold": true
      },
      "toCodePoint": 60,
      "type": "marks"
     }
    ]
   },
   "source": [
    "## Aplicación de test estadísticos sobre muestras del generador"
   ]
  },
  {
   "cell_type": "markdown",
   "metadata": {
    "cell_id": "c9a3965af39a4eafb4cfb1516b2b42c2",
    "deepnote_cell_type": "text-cell-p",
    "formattedRanges": []
   },
   "source": [
    "La sección anterior dejó como evidencia el comportamiento que tenía una muestra de números generadas por el generador PCG-RXS-M-XS. A continuación, se aplicaran distintos test sobre muestras del mismo para profundizar el análisis sobre el generador."
   ]
  },
  {
   "cell_type": "markdown",
   "metadata": {
    "cell_id": "4b81f87902ee4e65872690e97989bdb1",
    "deepnote_cell_type": "text-cell-h3",
    "formattedRanges": [
     {
      "fromCodePoint": 0,
      "marks": {
       "bold": true
      },
      "toCodePoint": 47,
      "type": "marks"
     }
    ]
   },
   "source": [
    "### Test estadístico Chi2  - generador PCG-RXS-M-XS"
   ]
  },
  {
   "cell_type": "markdown",
   "metadata": {
    "cell_id": "b8a33ab0104d4e709e39ed19033a0566",
    "deepnote_cell_type": "text-cell-p",
    "formattedRanges": []
   },
   "source": [
    "-Se definió el nivel de significación alfa = 0.01."
   ]
  },
  {
   "cell_type": "markdown",
   "metadata": {
    "cell_id": "f05c59868ebc494b863c37a44439403f",
    "deepnote_cell_type": "text-cell-p",
    "formattedRanges": []
   },
   "source": [
    "-Se discretiza la muestra en rangos de 0.1 para aplicar el test. La discretización se hace guardando en una lista la frecuencia de números  del generador contenidos sobre un rango (es decir, cuantos números hay en el rango 0.0-0.1, 0.1-0.2, y así sucesivamente)."
   ]
  },
  {
   "cell_type": "code",
   "execution_count": 7,
   "metadata": {
    "cell_id": "566c757ad25143c9b4af574fd6f46b40",
    "deepnote_cell_type": "code",
    "deepnote_to_be_reexecuted": false,
    "execution_context_id": "ea4c016d-158f-4035-8f14-cec70b23dd7a",
    "execution_millis": 0,
    "execution_start": 1727628063356,
    "source_hash": "a8361fe8"
   },
   "outputs": [
    {
     "name": "stdout",
     "output_type": "stream",
     "text": [
      "100070.0\n",
      "100160.0\n",
      "99578.0\n",
      "100381.0\n",
      "99460.0\n",
      "100379.0\n",
      "99688.0\n",
      "100379.0\n",
      "99717.0\n",
      "100188.0\n",
      "Total:  1000000.0\n"
     ]
    }
   ],
   "source": [
    "for elem in bin_count:\n",
    "    print(elem)\n",
    "\n",
    "print(\"Total: \", bin_count.sum())"
   ]
  },
  {
   "cell_type": "markdown",
   "metadata": {
    "cell_id": "3c4e0ec5800840ed93bbfc86fd5fd0ae",
    "deepnote_cell_type": "text-cell-p",
    "formattedRanges": []
   },
   "source": [
    "- La discretización da como resultado 10 clases ({0.0, 0.1, 0.2, 0.3, 0.4, 0.5, 0.6, 0.7, 0.8, 0.9} ) : k=10\n",
    "- Se usaron 9 grados de libertad.\n",
    "-Usando una table de valores para una chi-cuadrado: X^2_{9,0.99} = 21,666\n",
    "- Hipótesis del test:\n",
    "    Nuestra H0: La muestra se comporta como distribución uniforme.\n",
    "    Nuestra H1: La muestra no se comporta como distribución uniforme.\n",
    "-Calculo ddel valor de la prueba:"
   ]
  },
  {
   "cell_type": "markdown",
   "metadata": {
    "cell_id": "0f4aea357ac74fdea787f10449aa5df1",
    "deepnote_cell_type": "text-cell-p",
    "formattedRanges": []
   },
   "source": [
    "D^2 = Sum { (Oi - Ei)^2 / Ei }\n",
    "Siendo Ei = 1/10 * 1000000 = 100000"
   ]
  },
  {
   "cell_type": "markdown",
   "metadata": {
    "cell_id": "e97809280f7b4a9ebc1b638bd5a3b48b",
    "deepnote_cell_type": "text-cell-p",
    "formattedRanges": [
     {
      "fromCodePoint": 0,
      "marks": {
       "bold": true
      },
      "toCodePoint": 20,
      "type": "marks"
     }
    ]
   },
   "source": [
    "Realizacion del test"
   ]
  },
  {
   "cell_type": "code",
   "execution_count": 8,
   "metadata": {
    "cell_id": "bac1200af8784245892170b089c4cf5a",
    "deepnote_cell_type": "code",
    "deepnote_to_be_reexecuted": false,
    "execution_context_id": "ea4c016d-158f-4035-8f14-cec70b23dd7a",
    "execution_millis": 1,
    "execution_start": 1727628063407,
    "source_hash": "6c6b38ab"
   },
   "outputs": [
    {
     "name": "stdout",
     "output_type": "stream",
     "text": [
      "D^2 =  11.454040000000003\n",
      "limite =  16.918977604620448\n",
      "No rechazamos H0\n"
     ]
    }
   ],
   "source": [
    "sumado= 0\n",
    "for elem in bin_count:\n",
    "    sumado += ((elem-100000)**2)/100000\n",
    "\n",
    "print(\"D^2 = \", sumado) \n",
    "grados_libertad= 9\n",
    "limite = chi2.ppf(0.95, df=grados_libertad)\n",
    "print(\"limite = \", limite) \n",
    "print('No rechazamos H0' if sumado <= limite   else 'Rechazamos H0')"
   ]
  },
  {
   "cell_type": "markdown",
   "metadata": {
    "cell_id": "cfd4fbcae4294702980fbc0aebdbbd49",
    "deepnote_cell_type": "text-cell-p",
    "formattedRanges": []
   },
   "source": [
    "Ahora se realiza el test de chi cuadrado usando la función de scipy."
   ]
  },
  {
   "cell_type": "code",
   "execution_count": 9,
   "metadata": {
    "cell_id": "26b28c330b3344e0a71861fbd00938ee",
    "deepnote_cell_type": "code",
    "deepnote_to_be_reexecuted": false,
    "execution_context_id": "ea4c016d-158f-4035-8f14-cec70b23dd7a",
    "execution_millis": 1,
    "execution_start": 1727628063455,
    "source_hash": "a779bc85"
   },
   "outputs": [
    {
     "name": "stdout",
     "output_type": "stream",
     "text": [
      "D^2 =  11.45404\n",
      "Estadistico: 11.45 \n",
      "Limite superior: 16.92 \n",
      "No rechazamos H0\n"
     ]
    }
   ],
   "source": [
    "#chi cuadrado ppt\n",
    "\n",
    "from scipy.stats import chi2\n",
    "\n",
    "frecuencias = bin_count\n",
    "tamanio = len(bin_count)\n",
    "lanzamientos = bin_count.sum()\n",
    "grados_libertad= tamanio - 1\n",
    "\n",
    "D2 = sum([(fO - 1/10 *lanzamientos)**2 for fO in frecuencias])/(1/10*lanzamientos)\n",
    "limiteSuperior = chi2.ppf(0.95, df=grados_libertad)\n",
    "\n",
    "print(\"D^2 = \", D2)\n",
    "print(\"Estadistico: {:.2f} \".format(D2))\n",
    "print(\"Limite superior: {:.2f} \".format(limiteSuperior))\n",
    "\n",
    "if D2 <= limiteSuperior:\n",
    "    print(\"No rechazamos H0\")\n",
    "else:\n",
    "    print(\"Rechazamos H0\")"
   ]
  },
  {
   "cell_type": "markdown",
   "metadata": {
    "cell_id": "d0d74ee794cd48bf864a466f95953c85",
    "deepnote_cell_type": "text-cell-h3",
    "formattedRanges": [
     {
      "fromCodePoint": 0,
      "marks": {
       "bold": true
      },
      "toCodePoint": 52,
      "type": "marks"
     }
    ]
   },
   "source": [
    "### Test de Kolmogorov Smirnov  - generador PCG-RXS-M-XS"
   ]
  },
  {
   "cell_type": "markdown",
   "metadata": {
    "cell_id": "6b264f119b37489f88de4558c26fd996",
    "deepnote_cell_type": "text-cell-p",
    "formattedRanges": []
   },
   "source": [
    "Se aplica el test de Kolmogorov Smirnov con el objetivo de analizar la tendencia que sigue PCG-RXS-M-XS. EL objetivo es el de comparar la función de probabilidad acumulada del generador contra la función de probabliddad acumulada de una variable con distribución uniforme. Este test es una excelente forma de encontrar la similitud que tiene la distribución de una variable de distribución desconocida contra una variable de distribución conocida."
   ]
  },
  {
   "cell_type": "code",
   "execution_count": 10,
   "metadata": {
    "cell_id": "ddda62ed0b5f418ab944ab362953fafb",
    "deepnote_cell_type": "code",
    "deepnote_to_be_reexecuted": false,
    "execution_context_id": "ea4c016d-158f-4035-8f14-cec70b23dd7a",
    "execution_millis": 1025,
    "execution_start": 1727628063551,
    "source_hash": "37e46383"
   },
   "outputs": [
    {
     "data": {
      "image/png": "[encoded data removed]",
      "text/plain": [
       "<Figure size 640x480 with 1 Axes>"
      ]
     },
     "metadata": {
      "image/png": {
       "height": 455,
       "width": 567
      }
     },
     "output_type": "display_data"
    }
   ],
   "source": [
    "#ilustramos la función de probabilidad acumulada \n",
    "data_sorted = np.sort(numeros)\n",
    "cdf_empirical = np.arange(1, len(data_sorted)+1) / len(data_sorted)\n",
    "\n",
    "# CDF teórica de una distribución uniforme\n",
    "\n",
    "# Graficar las CDFs\n",
    "plt.plot(data_sorted, cdf_empirical, label='CDF Observada', marker='.')\n",
    "\n",
    "# Etiquetas y leyenda\n",
    "plt.title('Función de distribución acumulada (CDF)')\n",
    "plt.xlabel('Valor')\n",
    "plt.ylabel('Probabilidad acumulada')\n",
    "plt.legend(loc='upper left')\n",
    "\n",
    "# Mostrar el gráfico\n",
    "plt.show()"
   ]
  },
  {
   "cell_type": "markdown",
   "metadata": {
    "cell_id": "29cf1c697579482196b792ce8cc0db87",
    "deepnote_cell_type": "text-cell-p",
    "formattedRanges": []
   },
   "source": [
    "Se hace evidente la similitud que tiene la distribución de una muestra del generador con la distribución que tiene una muestra  verdaderamente distribuida de forma uniforme"
   ]
  },
  {
   "cell_type": "markdown",
   "metadata": {
    "cell_id": "324163cf4090434caff520a3823387a2",
    "deepnote_cell_type": "text-cell-p",
    "formattedRanges": []
   },
   "source": [
    "A continuación se aplican estadísticos del test para analizar la hipótesis obtenida a partir del enunciado."
   ]
  },
  {
   "cell_type": "code",
   "execution_count": 11,
   "metadata": {
    "cell_id": "ab9eb0337a6547c586eaf1e06e451d36",
    "deepnote_cell_type": "code",
    "execution_context_id": "ea4c016d-158f-4035-8f14-cec70b23dd7a",
    "execution_millis": 81,
    "execution_start": 1727628064659,
    "source_hash": "8b16e7cb"
   },
   "outputs": [
    {
     "name": "stdout",
     "output_type": "stream",
     "text": [
      "Estadístico de Kolmogorov-Smirnov: 0.0005864273765534\n",
      "Valor p: 0.8815203789694045\n",
      "No rechazamos H0\n"
     ]
    }
   ],
   "source": [
    "\n",
    "ks_stat, p_value = stats.kstest(numeros, 'uniform')\n",
    "\n",
    "print(f'Estadístico de Kolmogorov-Smirnov: {ks_stat}')\n",
    "print(f'Valor p: {p_value}')\n",
    "\n",
    "print('No rechazamos H0' if p_value > 0.01 else 'Rechazamos H0')"
   ]
  },
  {
   "cell_type": "code",
   "execution_count": 12,
   "metadata": {
    "cell_id": "927f0124a4d94d4a896957c243be8313",
    "deepnote_cell_type": "code",
    "execution_context_id": "ea4c016d-158f-4035-8f14-cec70b23dd7a",
    "execution_millis": 1,
    "execution_start": 1727628064791,
    "source_hash": "3c2cf9da"
   },
   "outputs": [],
   "source": [
    "import math\n",
    "\n",
    "def truncar_a_dos_decimales(numero):\n",
    "    factor = 10 ** 2  # Para truncar a 2 decimales\n",
    "    return math.trunc(numero * factor) / factor"
   ]
  },
  {
   "cell_type": "markdown",
   "metadata": {
    "cell_id": "3dc51ecd1bce40df8a707014635955cf",
    "deepnote_app_block_visible": false,
    "deepnote_cell_type": "text-cell-h3",
    "formattedRanges": [
     {
      "fromCodePoint": 0,
      "marks": {
       "bold": true
      },
      "toCodePoint": 47,
      "type": "marks"
     }
    ],
    "is_collapsed": false
   },
   "source": [
    "### Test de Independencia  - generador PCG-RXS-M-XS"
   ]
  },
  {
   "cell_type": "markdown",
   "metadata": {
    "cell_id": "b4704313e02948d69fc98ffab598c2f5",
    "deepnote_app_block_visible": false,
    "deepnote_cell_type": "text-cell-p",
    "formattedRanges": [],
    "is_collapsed": false
   },
   "source": [
    "Se realiza el test de indenpendencia con el fin de analizar la independencia que tienen entre sí dos muestra de números generadas por PCG-RXS-M-XS. "
   ]
  },
  {
   "cell_type": "markdown",
   "metadata": {
    "cell_id": "efa852f671104ba1873929401bc12321",
    "deepnote_app_block_visible": false,
    "deepnote_cell_type": "text-cell-p",
    "formattedRanges": [],
    "is_collapsed": false
   },
   "source": [
    "-Se definine el nivel de significación alfa = 0.05."
   ]
  },
  {
   "cell_type": "markdown",
   "metadata": {
    "cell_id": "600e5444819d461889d455bea42df28c",
    "deepnote_app_block_visible": false,
    "deepnote_cell_type": "text-cell-p",
    "formattedRanges": [],
    "is_collapsed": false
   },
   "source": [
    "-H0: X e Y son independientes"
   ]
  },
  {
   "cell_type": "code",
   "execution_count": 13,
   "metadata": {
    "cell_id": "51a2a07976704638b23806f6d3fb560e",
    "deepnote_cell_type": "code",
    "execution_context_id": "ea4c016d-158f-4035-8f14-cec70b23dd7a",
    "execution_millis": 1,
    "execution_start": 1727628064843,
    "source_hash": "8635e02f"
   },
   "outputs": [
    {
     "name": "stdout",
     "output_type": "stream",
     "text": [
      "Resultado de prueba de Estadístico chi-cuadrado: 450.0528\n",
      "Valor p: 1.0000\n",
      "Degrees of Freedom: 2499\n",
      "Limit: 2616.4113\n",
      "No hay evidencia suficiente para rechazar H0, no hay una relación significativa entre las variables.\n"
     ]
    }
   ],
   "source": [
    "from scipy.stats import chi2\n",
    "from scipy.stats import chi2_contingency\n",
    "\n",
    "#genero 2 lotes de 2500 numeros\n",
    "lote_x = numeros[0:2500]\n",
    "lote_y = generar_lote_de_numeros_aleatorios(2500, seed * 25) \n",
    "\n",
    "numeros_x = [truncar_a_dos_decimales(elem) for elem in lote_x]\n",
    "numeros_y = [truncar_a_dos_decimales(elem)for elem in lote_y]\n",
    " \n",
    "chi2v, p_val, dof, ex = chi2_contingency([numeros_x, numeros_y], correction=True)\n",
    "\n",
    "print(f'Resultado de prueba de Estadístico chi-cuadrado: {chi2v:.4f}')\n",
    "print(f'Valor p: {p_val:.4f}')\n",
    "print(f'Degrees of Freedom: {dof}')\n",
    "  \n",
    "#usamos un nivel de significacion del 5%\n",
    "alpha = 0.05\n",
    "\n",
    "#calculo limite supoerior para aceptar/rechazar hipotesis\n",
    "limiteSuperior = chi2.ppf(1 - alpha, df=dof)\n",
    "\n",
    "print(f'Limit: {limiteSuperior:.4f}')\n",
    "\n",
    "#comparo resultado de estadistico contra limite\n",
    "if chi2v > limiteSuperior:\n",
    "    print(\"Rechazamos H0: Existe una relación significativa entre las variables, por ende NO son independientes\")\n",
    "else:\n",
    "    print(\"No hay evidencia suficiente para rechazar H0, no hay una relación significativa entre las variables.\")"
   ]
  },
  {
   "cell_type": "markdown",
   "metadata": {
    "cell_id": "a6684fc35f3045cb9e195daeced8b9f2",
    "deepnote_cell_type": "text-cell-h3",
    "formattedRanges": [
     {
      "fromCodePoint": 0,
      "marks": {
       "bold": true
      },
      "toCodePoint": 42,
      "type": "marks"
     }
    ]
   },
   "source": [
    "### Test estadístico Chi2 - generador grupo #4"
   ]
  },
  {
   "cell_type": "code",
   "execution_count": 14,
   "metadata": {
    "cell_id": "0c274e82c20245eb912b0ac91c056004",
    "deepnote_cell_type": "code",
    "execution_context_id": "ea4c016d-158f-4035-8f14-cec70b23dd7a",
    "execution_millis": 17770,
    "execution_start": 1727628064892,
    "source_hash": "93e7c637"
   },
   "outputs": [],
   "source": [
    "# Obtencion de dos muestras de números aleatorios del grupo #4:\n",
    "numeros_grupo4_1 = np.genfromtxt('grupo4_numeros1.csv', delimiter=',')\n",
    "numeros_grupo4_2 = np.genfromtxt('grupo4_numeros2.csv', delimiter=',')\n"
   ]
  },
  {
   "cell_type": "code",
   "execution_count": 15,
   "metadata": {
    "cell_id": "220333faf2774b9abe3d7787413b2072",
    "deepnote_cell_type": "code",
    "execution_context_id": "ea4c016d-158f-4035-8f14-cec70b23dd7a",
    "execution_millis": 1,
    "execution_start": 1727628082711,
    "source_hash": "fd6ede10"
   },
   "outputs": [
    {
     "name": "stdout",
     "output_type": "stream",
     "text": [
      "1000000\n",
      "1000000\n"
     ]
    }
   ],
   "source": [
    "print(len(numeros_grupo4_1))\n",
    "print(len(numeros_grupo4_2))"
   ]
  },
  {
   "cell_type": "markdown",
   "metadata": {
    "cell_id": "c558fa1ebcd0418fa9c54bbedb56a353",
    "deepnote_cell_type": "text-cell-p",
    "formattedRanges": [
     {
      "fromCodePoint": 0,
      "marks": {
       "bold": true
      },
      "toCodePoint": 29,
      "type": "marks"
     }
    ]
   },
   "source": [
    "Chi-cuadrado sobre muestra #1"
   ]
  },
  {
   "cell_type": "code",
   "execution_count": 16,
   "metadata": {
    "cell_id": "fa77a162aa514a8992bd31d26ff92c83",
    "deepnote_cell_type": "code",
    "execution_context_id": "ea4c016d-158f-4035-8f14-cec70b23dd7a",
    "execution_millis": 148,
    "execution_start": 1727628082768,
    "source_hash": "2e547f62"
   },
   "outputs": [
    {
     "data": {
      "image/png": "[encoded data removed]",
      "text/plain": [
       "<Figure size 640x480 with 1 Axes>"
      ]
     },
     "metadata": {
      "image/png": {
       "height": 455,
       "width": 597
      }
     },
     "output_type": "display_data"
    },
    {
     "name": "stdout",
     "output_type": "stream",
     "text": [
      "[100545. 100241.  98979.  99563.  99723. 100118. 100456.  99687. 100396.\n",
      " 100292.]\n"
     ]
    }
   ],
   "source": [
    "\n",
    "bin_count_grupo4_1, bin_edges_grupo4, _ = plt.hist(numeros_grupo4_1, bins=10, edgecolor='black')\n",
    "plt.title('Histograma de Grupo 4')\n",
    "plt.xlabel('Valor')\n",
    "plt.ylabel('Frecuencia')\n",
    "plt.show()\n",
    "#mostramos cuantos elementos hay en cada bin\n",
    "print(bin_count_grupo4_1)"
   ]
  },
  {
   "cell_type": "code",
   "execution_count": 17,
   "metadata": {
    "cell_id": "791c22bc3ead421c8c4633c7cbfe1187",
    "deepnote_cell_type": "code",
    "execution_context_id": "ea4c016d-158f-4035-8f14-cec70b23dd7a",
    "execution_millis": 1,
    "execution_start": 1727628082967,
    "source_hash": "67feba63"
   },
   "outputs": [
    {
     "name": "stdout",
     "output_type": "stream",
     "text": [
      "D^2 =  22.27154\n",
      "Estadistico: 22.27 \n",
      "Limite superior: 16.92 \n",
      "El test rechaza la hipótesis nula\n"
     ]
    }
   ],
   "source": [
    "#chi cuadrado ppt\n",
    "\n",
    "from scipy.stats import chi2\n",
    "\n",
    "frecuencias = bin_count_grupo4_1\n",
    "tamanio = len(bin_count_grupo4_1)\n",
    "lanzamientos = bin_count_grupo4_1.sum()\n",
    "grados_libertad= tamanio - 1\n",
    "\n",
    "D2 = sum([(fO - 1/10 *lanzamientos)**2 for fO in frecuencias])/(1/10*lanzamientos)\n",
    "print(\"D^2 = \", D2)\n",
    "\n",
    "limiteSuperior = chi2.ppf(0.95, df=grados_libertad)\n",
    "\n",
    "print(\"Estadistico: {:.2f} \".format(D2))\n",
    "print(\"Limite superior: {:.2f} \".format(limiteSuperior))\n",
    "\n",
    "if D2 <= limiteSuperior:\n",
    "    print(\"El test acepta la hipotesis nula.\")\n",
    "else:\n",
    "    print(\"El test rechaza la hipótesis nula\")"
   ]
  },
  {
   "cell_type": "markdown",
   "metadata": {
    "cell_id": "211e4a03156a4662bf54410368998d41",
    "deepnote_cell_type": "text-cell-p",
    "formattedRanges": [
     {
      "fromCodePoint": 0,
      "marks": {
       "bold": true
      },
      "toCodePoint": 29,
      "type": "marks"
     }
    ]
   },
   "source": [
    "Chi-cuadrado sobre muestra #2"
   ]
  },
  {
   "cell_type": "code",
   "execution_count": 19,
   "metadata": {
    "cell_id": "5186feff960147b79978a40aa85aa211",
    "deepnote_cell_type": "code",
    "execution_context_id": "ea4c016d-158f-4035-8f14-cec70b23dd7a",
    "execution_millis": 155,
    "execution_start": 1727628083147,
    "source_hash": "af310189"
   },
   "outputs": [
    {
     "data": {
      "image/png": "[encoded data removed]",
      "text/plain": [
       "<Figure size 640x480 with 1 Axes>"
      ]
     },
     "metadata": {
      "image/png": {
       "height": 455,
       "width": 597
      }
     },
     "output_type": "display_data"
    },
    {
     "name": "stdout",
     "output_type": "stream",
     "text": [
      "[ 99896. 100342. 100606. 100027.  99649. 100175.  99125. 100214.  99827.\n",
      " 100139.]\n"
     ]
    }
   ],
   "source": [
    "bin_count_grupo4, bin_edges_grupo4, _ = plt.hist(numeros_grupo4_2, bins=10, edgecolor='black')\n",
    "plt.title('Histograma de Grupo 4')\n",
    "plt.xlabel('Valor')\n",
    "plt.ylabel('Frecuencia')\n",
    "plt.show()\n",
    "#mostramos cuantos elementos hay en cada bin\n",
    "print(bin_count_grupo4)"
   ]
  },
  {
   "cell_type": "code",
   "execution_count": 20,
   "metadata": {
    "cell_id": "22de421b795c4b10856afd1a63c0074c",
    "deepnote_cell_type": "code",
    "execution_context_id": "ea4c016d-158f-4035-8f14-cec70b23dd7a",
    "execution_millis": 0,
    "execution_start": 1727628083352,
    "source_hash": "71b68427"
   },
   "outputs": [
    {
     "name": "stdout",
     "output_type": "stream",
     "text": [
      "D^2 =  15.10242\n",
      "Estadistico: 15.10 \n",
      "Limite superior: 16.92 \n",
      "El test acepta la hipotesis nula.\n"
     ]
    }
   ],
   "source": [
    "#chi cuadrado ppt\n",
    "\n",
    "from scipy.stats import chi2\n",
    "\n",
    "frecuencias = bin_count_grupo4\n",
    "tamanio = len(bin_count_grupo4)\n",
    "lanzamientos = bin_count_grupo4.sum()\n",
    "grados_libertad= tamanio - 1\n",
    "\n",
    "D2 = sum([(fO - 1/10 *lanzamientos)**2 for fO in frecuencias])/(1/10*lanzamientos)\n",
    "print(\"D^2 = \", D2)\n",
    "\n",
    "limiteSuperior = chi2.ppf(0.95, df=grados_libertad)\n",
    "\n",
    "print(\"Estadistico: {:.2f} \".format(D2))\n",
    "print(\"Limite superior: {:.2f} \".format(limiteSuperior))\n",
    "\n",
    "if D2 <= limiteSuperior:\n",
    "    print(\"El test acepta la hipotesis nula.\")\n",
    "else:\n",
    "    print(\"El test rechaza la hipótesis nula\")"
   ]
  },
  {
   "cell_type": "markdown",
   "metadata": {
    "cell_id": "6cddc26291a143c0a68fa42acd0af467",
    "deepnote_cell_type": "text-cell-h3",
    "formattedRanges": [
     {
      "fromCodePoint": 0,
      "marks": {
       "bold": true
      },
      "toCodePoint": 37,
      "type": "marks"
     }
    ]
   },
   "source": [
    "### Test de Kolmogorov-Smirnov - grupo #4"
   ]
  },
  {
   "cell_type": "code",
   "execution_count": 18,
   "metadata": {
    "cell_id": "c9d0d9078a78476cb8b96425259af715",
    "deepnote_cell_type": "code",
    "execution_context_id": "ea4c016d-158f-4035-8f14-cec70b23dd7a",
    "execution_millis": 80,
    "execution_start": 1727628083015,
    "source_hash": "9b18661e"
   },
   "outputs": [
    {
     "name": "stdout",
     "output_type": "stream",
     "text": [
      "Estadístico de Kolmogorov-Smirnov: 0.0011171557807740928\n",
      "Valor p: 0.1646010943503009\n",
      "No rechazamos H0\n"
     ]
    }
   ],
   "source": [
    "ks_stat, p_value = stats.kstest(numeros_grupo4_1, 'uniform')\n",
    "\n",
    "print(f'Estadístico de Kolmogorov-Smirnov: {ks_stat}')\n",
    "print(f'Valor p: {p_value}')\n",
    "\n",
    "print('No rechazamos H0' if p_value > 0.01 else 'Rechazamos H0')"
   ]
  },
  {
   "cell_type": "code",
   "execution_count": 21,
   "metadata": {
    "cell_id": "566bf788818a4a6690b01c6b98ca7bc3",
    "deepnote_cell_type": "code",
    "execution_context_id": "ea4c016d-158f-4035-8f14-cec70b23dd7a",
    "execution_millis": 80,
    "execution_start": 1727628083399,
    "source_hash": "51fbba21"
   },
   "outputs": [
    {
     "name": "stdout",
     "output_type": "stream",
     "text": [
      "Estadístico de Kolmogorov-Smirnov: 0.0010179794886319704\n",
      "Valor p: 0.2510538902300188\n",
      "No rechazamos H0\n"
     ]
    }
   ],
   "source": [
    "ks_stat, p_value = stats.kstest(numeros_grupo4_2, 'uniform')\n",
    "\n",
    "print(f'Estadístico de Kolmogorov-Smirnov: {ks_stat}')\n",
    "print(f'Valor p: {p_value}')\n",
    "\n",
    "print('No rechazamos H0' if p_value > 0.01 else 'Rechazamos H0')"
   ]
  },
  {
   "cell_type": "markdown",
   "metadata": {
    "cell_id": "30d26e6f2d2d4e629357e0de45e21e4d",
    "deepnote_cell_type": "text-cell-h3",
    "formattedRanges": []
   },
   "source": [
    "### Test de independencia - generador grupo #4"
   ]
  },
  {
   "cell_type": "code",
   "execution_count": 22,
   "metadata": {
    "cell_id": "b75dd109c1194ba0a69aa51561f44127",
    "deepnote_cell_type": "code",
    "execution_context_id": "ea4c016d-158f-4035-8f14-cec70b23dd7a",
    "execution_millis": 1,
    "execution_start": 1727628083531,
    "source_hash": "cd815442"
   },
   "outputs": [
    {
     "name": "stdout",
     "output_type": "stream",
     "text": [
      "Resultado de prueba de Estadístico chi-cuadrado: 18.7171\n",
      "Valor p: 1.0000\n",
      "Degrees of Freedom: 99\n",
      "Limit: 81.4493\n",
      "No hay evidencia suficiente para rechazar H0, no hay una relación significativa entre las variables.\n"
     ]
    }
   ],
   "source": [
    "#Test de Independencia para grupo 4\n",
    "\n",
    "from scipy.stats import chi2\n",
    "from scipy.stats import chi2_contingency\n",
    "\n",
    "lote_grupo4_x = numeros_grupo4_1[0:100]\n",
    "lote_grupo4_y = numeros_grupo4_2[0:100]\n",
    "\n",
    "numeros_x = [truncar_a_dos_decimales(elem) for elem in lote_grupo4_x]\n",
    "numeros_y = [truncar_a_dos_decimales(elem)for elem in lote_grupo4_y]\n",
    " \n",
    "chi2v, p_val, dof, ex = chi2_contingency([numeros_x, numeros_y], correction=True)\n",
    "\n",
    "print(f'Resultado de prueba de Estadístico chi-cuadrado: {chi2v:.4f}')\n",
    "print(f'Valor p: {p_val:.4f}')\n",
    "print(f'Degrees of Freedom: {dof}')\n",
    "  \n",
    "#usamos un nivel de significacion del 5%\n",
    "alpha = 0.9\n",
    "\n",
    "#calculo limite supoerior para aceptar/rechazar hipotesis\n",
    "limiteSuperior = chi2.ppf(1 - alpha, df=dof)\n",
    "\n",
    "print(f'Limit: {limiteSuperior:.4f}')\n",
    "\n",
    "#comparo resultado de estadistico contra limite\n",
    "if chi2v > limiteSuperior:\n",
    "    print(\"Rechazamos H0: Existe una relación significativa entre las variables, por ende NO son independientes\")\n",
    "else:\n",
    "    print(\"No hay evidencia suficiente para rechazar H0, no hay una relación significativa entre las variables.\")"
   ]
  },
  {
   "cell_type": "markdown",
   "metadata": {
    "cell_id": "0aa4c9bdcb3042b78883d8dbe9e6dbc3",
    "deepnote_cell_type": "text-cell-h3",
    "formattedRanges": [
     {
      "fromCodePoint": 32,
      "marks": {
       "bold": true
      },
      "toCodePoint": 44,
      "type": "marks"
     }
    ]
   },
   "source": [
    "### Conclusiones sobre el generador PCG-RXS-M-XS vs el generador del grupo #4"
   ]
  },
  {
   "cell_type": "markdown",
   "metadata": {
    "cell_id": "fa5c63cba3a141ed9cd6c5c0ac08cc36",
    "deepnote_cell_type": "text-cell-p",
    "formattedRanges": []
   },
   "source": [
    "Comparando los test de chi cuadrado, vemos que una tira del generador del grupo 4 rechaza la hipotesis nula pero la segunda no la rechaza. Esto puede suceder debido a la semilla elegida o los parámetros elegidos."
   ]
  },
  {
   "cell_type": "markdown",
   "metadata": {
    "cell_id": "7c3b096882c540019ae03ef6473484a8",
    "deepnote_cell_type": "text-cell-p",
    "formattedRanges": []
   },
   "source": [
    "Respecto al test de independencia, vemos que para las dos tiras de numeros del grupo 4, no hay evidencia suficiente para rechazar la hipotesis nula, aun si aumentamos alfa, y reducimos la cantdad de muestras por tira, se sigue mantendiendo la tendencia. Por ende se concluye que hay una probabilidad alta de que X e Y sean independientes, aunque tampoco pordemos asegurarlo."
   ]
  },
  {
   "cell_type": "markdown",
   "metadata": {
    "cell_id": "cb9097f99abb44918becffca49511db4",
    "deepnote_cell_type": "text-cell-p",
    "formattedRanges": []
   },
   "source": [
    "Respecto al test de kolmogorov-smirnov, en ambos casos no se rechaza la hipotesis nula. De todos modos si comparamos el p valor de los tres test:"
   ]
  },
  {
   "cell_type": "markdown",
   "metadata": {
    "cell_id": "8e7f138875c94abe8f96153573b03931",
    "deepnote_cell_type": "text-cell-p",
    "formattedRanges": []
   },
   "source": [
    "- numeros grupo 3  0.8815203789694045 \n",
    "- numeros grupo4_1 0.1646010943503009\n",
    "- numeros grupo4_2 0.2510538902300188"
   ]
  },
  {
   "cell_type": "markdown",
   "metadata": {
    "cell_id": "195209566805447e8415a29d2efa89f2",
    "deepnote_cell_type": "text-cell-p",
    "formattedRanges": []
   },
   "source": [
    "Vemos que los números del grupo 4 están más cerca del límite. "
   ]
  },
  {
   "cell_type": "markdown",
   "metadata": {
    "cell_id": "68243d2f787847f681a5c1bcc7f266b0",
    "deepnote_cell_type": "text-cell-h2",
    "formattedRanges": []
   },
   "source": [
    "## Simulación del Movimiento Browniano"
   ]
  },
  {
   "cell_type": "markdown",
   "metadata": {
    "cell_id": "a4020013406d4e21a44e64cfeabdb336",
    "deepnote_cell_type": "image",
    "deepnote_img_src": "image-20240929-164148.png"
   },
   "source": [
    "<img src=\"image-20240929-164148.png\" width=\"\" align=\"\" />"
   ]
  },
  {
   "cell_type": "markdown",
   "metadata": {
    "cell_id": "d155424ef345416291db360b9d1e6618",
    "deepnote_cell_type": "text-cell-p",
    "formattedRanges": []
   },
   "source": [
    "El Movimiento Browniano describe que las partículas dentro de un fluido se mueven de forma aleatoria, esto, debido al choque aleatorio con las moléculas que componen al fluido, lo que ocasiona que dichas partículas esten constantemente moviendose de un punto a otro como producto del choque con las moléculas.\n",
    "\n",
    "En esta sección se simuló el Movimiento Browniano con el objetivo de visibilizar el efecto de la ablación de un sólido como producto de la interacción de la interacción con las partículas del ambiente. Para tal fin se hizo uso de los fundamentos básicos del Movimiento Browniano y del siguiente conjunto de supuestos:"
   ]
  },
  {
   "cell_type": "markdown",
   "metadata": {
    "cell_id": "54abea13899a4248ac1f255e0ab772bd",
    "deepnote_cell_type": "text-cell-p",
    "formattedRanges": []
   },
   "source": [
    "1- El sólido a analizar se encuentra sobre un recinto finito, estando parte del volumen del recinto ocupado por un fluido, y la otra parte por el sólido. Sobre dicho recinto se colocan partículas que producto del Movimiento Browniano se desplazan de forma aleatoria a través del recinto.\n",
    "2- El recinto es simulado a través de una visualización en 2D.\n",
    "3- La totalidad del recinto es modelada a través de una matriz de grillas espaciadas a una distancia de uno entre sí. Cada punto de la matriz es una posición del recinto (un puntito de la grilla), en la que puede haber fluido, una partícula, o un trozito del sólido estudiado.\n",
    "4-Una partícula dentro de la grilla solo puede moverse verticalmente u horizontalmente."
   ]
  },
  {
   "cell_type": "markdown",
   "metadata": {
    "cell_id": "043e8c748be646c5a4558f02c12419f7",
    "deepnote_cell_type": "image",
    "deepnote_img_src": "image-20240929-164050.png"
   },
   "source": [
    "<img src=\"image-20240929-164050.png\" width=\"\" align=\"\" />"
   ]
  },
  {
   "cell_type": "markdown",
   "metadata": {
    "cell_id": "8c23660375c4453c98d382a2b47c1696",
    "deepnote_cell_type": "text-cell-p",
    "formattedRanges": []
   },
   "source": [
    "5-El recinto es cerrado, esto quiere decir que una partícula contenida dentro del fluido no puede salirse del recinto.\n",
    "6-Eventos: \n",
    "6.1-Adherencia o rebote: Si una partícula choca con un fluido tiene una probabilidad del 50% de adherirse a el y contribuir al proceso de ablación (hay una probabilidad del 50% de que la partícula rebote).\n",
    "6-2-Movimiento: Cuando una  partícula va a desplazarse, la probabilidad de que el movimiento sea horizontal o vertical es ddel 50% (cada una). Luego la probablidad de que el desplazamiento sea hacia arriba, abajo, izquierda, o derecha, también es del 50% cada una."
   ]
  },
  {
   "cell_type": "code",
   "execution_count": 23,
   "metadata": {
    "cell_id": "780b86e5960e4bb6a85d289b68ef8333",
    "deepnote_cell_type": "code",
    "execution_context_id": "ea4c016d-158f-4035-8f14-cec70b23dd7a",
    "execution_millis": 0,
    "execution_start": 1727628083579,
    "source_hash": "9f6bf417"
   },
   "outputs": [],
   "source": [
    "#Tipos de cuadricula \n",
    "AIRE = \"-\"\n",
    "SOLIDO = \"#\"\n",
    "PARTICULA = \"P\""
   ]
  },
  {
   "cell_type": "code",
   "execution_count": 24,
   "metadata": {
    "cell_id": "50bf21b609924012bd681149935da60c",
    "deepnote_cell_type": "code",
    "execution_context_id": "ea4c016d-158f-4035-8f14-cec70b23dd7a",
    "execution_millis": 1,
    "execution_start": 1727628083627,
    "source_hash": "f8547dd3"
   },
   "outputs": [],
   "source": [
    "#Generacion de la cuadricula\n",
    "def generar_grilla(n):\n",
    "    grilla = [[AIRE for _ in range(n)] for _ in range(n)]\n",
    "    return grilla\n"
   ]
  },
  {
   "cell_type": "code",
   "execution_count": 25,
   "metadata": {
    "cell_id": "0d032e3ff0984d0eb42500df8b8e7fca",
    "deepnote_cell_type": "code",
    "execution_context_id": "ea4c016d-158f-4035-8f14-cec70b23dd7a",
    "execution_millis": 0,
    "execution_start": 1727628083675,
    "source_hash": "43ccf281"
   },
   "outputs": [],
   "source": [
    "#x1, y1 = esquina superior izquierda, x2, y2 = esquina inferior derecha\n",
    "def colocar_solido(matriz, x1, y1, x2, y2):\n",
    "    # Rellenar la región rectangular con \"solido\"\n",
    "    for i in range(x1, x2 + 1):\n",
    "        for j in range(y1, y2 + 1):\n",
    "            matriz[i][j] = SOLIDO\n",
    "\n",
    "    return matriz"
   ]
  },
  {
   "cell_type": "code",
   "execution_count": 26,
   "metadata": {
    "cell_id": "465f628dccc34f37b2224cc5a994070a",
    "deepnote_cell_type": "code",
    "execution_context_id": "ea4c016d-158f-4035-8f14-cec70b23dd7a",
    "execution_millis": 0,
    "execution_start": 1727628083730,
    "source_hash": "81f90732"
   },
   "outputs": [],
   "source": [
    "ARRIBA = -1\n",
    "ABAJO = 1\n",
    "IZQUIERDA = -1\n",
    "DERECHA = 1\n",
    "\n",
    "MOVIMIENTO_HORIZONTAL = \"MOVIMIENTO_HORIZONTAL\"\n",
    "MOVIMIENTO_VERTICAL = \"MOVIMIENTO_VERTICAL\"\n",
    "\n",
    "\n",
    "def determinar_movimiento_horizontal(semilla):\n",
    "    numero_aleatorio = generar_lote_de_numeros_aleatorios(1, semilla)[0]\n",
    "\n",
    "    if numero_aleatorio <= 0.5:\n",
    "        return IZQUIERDA\n",
    "    else:\n",
    "        return DERECHA\n",
    "\n",
    "\n",
    "def determinar_movimiento_vertical(semilla):\n",
    "    numero_aleatorio = generar_lote_de_numeros_aleatorios(1, semilla)[0]\n",
    "\n",
    "    if numero_aleatorio <= 0.5:\n",
    "        return ARRIBA\n",
    "    else:\n",
    "        return ABAJO\n",
    "\n",
    "\n",
    "def determinar_tipo_de_movimiento(semilla):\n",
    "\n",
    "    numero_aleatorio = generar_lote_de_numeros_aleatorios(1, semilla)[0]\n",
    "\n",
    "    if numero_aleatorio <= 0.5:\n",
    "        return MOVIMIENTO_HORIZONTAL\n",
    "    else:\n",
    "        return MOVIMIENTO_VERTICAL\n",
    "\n",
    "\n",
    "def esta_dentro_de_los_limites(nueva_posicion, ancho, alto):\n",
    "    return (nueva_posicion[0] >= 0 and nueva_posicion[0] < ancho) and (nueva_posicion[1] >= 0 and nueva_posicion[1] < alto)"
   ]
  },
  {
   "cell_type": "code",
   "execution_count": 27,
   "metadata": {
    "cell_id": "c1a3b50f7aca4a5b869cceda8e154d25",
    "deepnote_cell_type": "code",
    "execution_context_id": "ea4c016d-158f-4035-8f14-cec70b23dd7a",
    "execution_millis": 1,
    "execution_start": 1727628083779,
    "source_hash": "2db1ca92"
   },
   "outputs": [],
   "source": [
    "def hubo_adherencia(semilla_de_adherencia):\n",
    "\n",
    "    numero_aleatorio = generar_lote_de_numeros_aleatorios(1, semilla_de_adherencia)[0]\n",
    "\n",
    "    if numero_aleatorio <= 0.5:\n",
    "        return True\n",
    "    else:\n",
    "        return False\n"
   ]
  },
  {
   "cell_type": "code",
   "execution_count": 28,
   "metadata": {
    "cell_id": "94f822db12b84d09931abaaa4a8b32a8",
    "deepnote_cell_type": "code",
    "execution_context_id": "ea4c016d-158f-4035-8f14-cec70b23dd7a",
    "execution_millis": 1,
    "execution_start": 1727628083831,
    "source_hash": "84544548"
   },
   "outputs": [],
   "source": [
    "def simular_movimiento_browniano(pasos, grilla ,ancho_grilla, alto_grilla, cantidad_particulas):\n",
    "\n",
    "    particulas = []\n",
    "    posiciones_solido = []\n",
    "\n",
    "    for i in range(cantidad_particulas):\n",
    "        particulas.append({\n",
    "            \"pos_actual\" : (0,(0 + i) ), #reveer esto\n",
    "            \"estado_anterior\": grilla[0][0],\n",
    "            \"semilla_mov_x\": 1000 + i * 100,\n",
    "            \"semilla_mov_y\": 2000 + i * 100,\n",
    "            \"semilla_tipo_de_movimiento\": 300 + i * 100,\n",
    "            \"semilla_adherencia\": 400 + i * 100,\n",
    "            \"adherida\": False,\n",
    "            \"trayectoria\": [],\n",
    "        })\n",
    "\n",
    "\n",
    "    for i in range(pasos):\n",
    "\n",
    "        particulas_no_adheridas = [p for p in particulas if not p[\"adherida\"]]\n",
    "\n",
    "        posiciones_solido_paso = [\n",
    "            (x, y) for x in range(ancho_grilla) for y in range(alto_grilla) if grilla[x][y] == SOLIDO\n",
    "        ]\n",
    "        posiciones_solido.append(posiciones_solido_paso)\n",
    "\n",
    "        for j, particula in enumerate(particulas_no_adheridas):\n",
    "            #print(\"Particula {}: {}\".format(j, particula[\"pos_actual\"])) \n",
    "            particula[\"trayectoria\"].append(particula[\"pos_actual\"])\n",
    "            movimiento_horizontal = 0\n",
    "            movimiento_vertical = 0\n",
    "            es_pos_valida = False\n",
    "            pos_anterior = particula[\"pos_actual\"]\n",
    "\n",
    "            while not es_pos_valida:\n",
    "                movimiento_horizontal = 0\n",
    "                movimiento_vertical = 0\n",
    "\n",
    "                if (determinar_tipo_de_movimiento(particula[\"semilla_tipo_de_movimiento\"]) == MOVIMIENTO_HORIZONTAL):\n",
    "                    movimiento_horizontal = determinar_movimiento_horizontal(particula[\"semilla_mov_x\"])\n",
    "                else:\n",
    "                    movimiento_vertical = determinar_movimiento_vertical(particula[\"semilla_mov_y\"])            \n",
    "   \n",
    "                particula[\"semilla_mov_x\"] += 1\n",
    "                particula[\"semilla_mov_y\"] += 1\n",
    "                particula[\"semilla_tipo_de_movimiento\"] += 1\n",
    "\n",
    "                pos_anterior = particula[\"pos_actual\"]\n",
    "                proxima_posicion = (particula[\"pos_actual\"][0] + movimiento_horizontal, particula[\"pos_actual\"][1] + movimiento_vertical)\n",
    "\n",
    "                if esta_dentro_de_los_limites(proxima_posicion, ancho_grilla, alto_grilla) and grilla[proxima_posicion[0]][proxima_posicion[1]] != PARTICULA:\n",
    "                    es_pos_valida = True\n",
    "                    grilla[particula[\"pos_actual\"][0]][particula[\"pos_actual\"][1]] = particula[\"estado_anterior\"]\n",
    "                    particula[\"estado_anterior\"] = grilla[proxima_posicion[0]][proxima_posicion[1]]\n",
    "                    particula[\"pos_actual\"] = proxima_posicion     \n",
    "\n",
    "            if grilla[particula[\"pos_actual\"][0]][particula[\"pos_actual\"][1]] == AIRE:\n",
    "                grilla[particula[\"pos_actual\"][0]][particula[\"pos_actual\"][1]] = PARTICULA\n",
    "            \n",
    "            elif grilla[particula[\"pos_actual\"][0]][particula[\"pos_actual\"][1]] == SOLIDO:\n",
    "                \n",
    "                if hubo_adherencia(particula[\"semilla_adherencia\"]):\n",
    "                    grilla[particula[\"pos_actual\"][0]][particula[\"pos_actual\"][1]] = PARTICULA\n",
    "                    particula[\"adherida\"] = True \n",
    "                    print(\"Partícula {}: HUBO ADHERENCIA, paso {}, estado_anterior {}\".format(j, i, particula[\"estado_anterior\"]))\n",
    "                    break\n",
    "                else:\n",
    "                    # que pasa si no hay adherencia se mueve de nuevo? entiend que debería rebotar no?\n",
    "                    print(\"Partícula {}: NO HUBO ADHERENCIA, paso {}, posicion actual: {}, posicion rebote: {}\".format(j, i, particula[\"pos_actual\"], pos_anterior))\n",
    "                    # reseto el estado donde estaba la particula\n",
    "                    particula[\"estado_anterior\"] = grilla[pos_anterior[0]][pos_anterior[1]]\n",
    "                    # reseteo la posicion \n",
    "                    particula[\"pos_actual\"] = pos_anterior\n",
    "                    # reboto la particula\n",
    "                    grilla[particula[\"pos_actual\"][0]][particula[\"pos_actual\"][1]] = PARTICULA\n",
    "                    particula[\"semilla_adherencia\"] += 2\n",
    "                        \n",
    "    for i, particula in enumerate(particulas):\n",
    "        particula[\"trayectoria\"].append(particula[\"pos_actual\"])\n",
    "        print(\"Partícula {}: pos {}\".format(i, particula[\"pos_actual\"]))\n",
    "\n",
    "    return particulas, posiciones_solido"
   ]
  },
  {
   "cell_type": "code",
   "execution_count": 29,
   "metadata": {
    "cell_id": "dcda666d541e42899be1f63f3a780a14",
    "deepnote_cell_type": "code",
    "execution_context_id": "ea4c016d-158f-4035-8f14-cec70b23dd7a",
    "execution_millis": 1,
    "execution_start": 1727628083891,
    "source_hash": "f5c095a4"
   },
   "outputs": [
    {
     "name": "stdout",
     "output_type": "stream",
     "text": [
      "Partícula 9: NO HUBO ADHERENCIA, paso 6, posicion actual: (5, 7), posicion rebote: (4, 7)\n",
      "Partícula 9: NO HUBO ADHERENCIA, paso 9, posicion actual: (5, 9), posicion rebote: (4, 9)\n",
      "Partícula 3: NO HUBO ADHERENCIA, paso 12, posicion actual: (5, 7), posicion rebote: (4, 7)\n",
      "Partícula 12: HUBO ADHERENCIA, paso 15, estado_anterior #\n",
      "Partícula 3: HUBO ADHERENCIA, paso 16, estado_anterior #\n",
      "Partícula 11: HUBO ADHERENCIA, paso 18, estado_anterior #\n",
      "Partícula 1: NO HUBO ADHERENCIA, paso 19, posicion actual: (5, 6), posicion rebote: (4, 6)\n",
      "Partícula 1: HUBO ADHERENCIA, paso 20, estado_anterior #\n",
      "Partícula 6: HUBO ADHERENCIA, paso 24, estado_anterior #\n",
      "Partícula 10: NO HUBO ADHERENCIA, paso 35, posicion actual: (5, 9), posicion rebote: (4, 9)\n",
      "Partícula 1: NO HUBO ADHERENCIA, paso 40, posicion actual: (5, 5), posicion rebote: (4, 5)\n",
      "Partícula 1: NO HUBO ADHERENCIA, paso 41, posicion actual: (5, 5), posicion rebote: (4, 5)\n",
      "Partícula 1: NO HUBO ADHERENCIA, paso 42, posicion actual: (5, 5), posicion rebote: (4, 5)\n",
      "Partícula 10: NO HUBO ADHERENCIA, paso 42, posicion actual: (5, 9), posicion rebote: (4, 9)\n",
      "Partícula 10: HUBO ADHERENCIA, paso 45, estado_anterior #\n",
      "Partícula 4: HUBO ADHERENCIA, paso 49, estado_anterior #\n",
      "Partícula 9: HUBO ADHERENCIA, paso 63, estado_anterior #\n",
      "Partícula 1: NO HUBO ADHERENCIA, paso 67, posicion actual: (5, 5), posicion rebote: (4, 5)\n",
      "Partícula 5: HUBO ADHERENCIA, paso 74, estado_anterior #\n",
      "Partícula 1: NO HUBO ADHERENCIA, paso 93, posicion actual: (8, 5), posicion rebote: (8, 4)\n",
      "Partícula 1: NO HUBO ADHERENCIA, paso 95, posicion actual: (9, 5), posicion rebote: (9, 4)\n",
      "Partícula 1: NO HUBO ADHERENCIA, paso 97, posicion actual: (10, 5), posicion rebote: (10, 4)\n",
      "Partícula 4: NO HUBO ADHERENCIA, paso 97, posicion actual: (5, 5), posicion rebote: (5, 4)\n",
      "Partícula 1: NO HUBO ADHERENCIA, paso 99, posicion actual: (11, 5), posicion rebote: (11, 4)\n",
      "Partícula 1: NO HUBO ADHERENCIA, paso 101, posicion actual: (12, 5), posicion rebote: (12, 4)\n",
      "Partícula 1: NO HUBO ADHERENCIA, paso 103, posicion actual: (11, 5), posicion rebote: (11, 4)\n",
      "Partícula 1: HUBO ADHERENCIA, paso 104, estado_anterior #\n",
      "Partícula 1: NO HUBO ADHERENCIA, paso 114, posicion actual: (5, 5), posicion rebote: (5, 4)\n",
      "Partícula 1: NO HUBO ADHERENCIA, paso 115, posicion actual: (5, 5), posicion rebote: (5, 4)\n",
      "Partícula 6: NO HUBO ADHERENCIA, paso 120, posicion actual: (8, 15), posicion rebote: (8, 16)\n",
      "Partícula 6: NO HUBO ADHERENCIA, paso 121, posicion actual: (8, 15), posicion rebote: (8, 16)\n",
      "Partícula 3: NO HUBO ADHERENCIA, paso 123, posicion actual: (13, 5), posicion rebote: (13, 4)\n",
      "Partícula 6: HUBO ADHERENCIA, paso 124, estado_anterior #\n",
      "Partícula 3: HUBO ADHERENCIA, paso 125, estado_anterior #\n",
      "Partícula 0: pos (1, 9)\n",
      "Partícula 1: pos (5, 6)\n",
      "Partícula 2: pos (11, 5)\n",
      "Partícula 3: pos (5, 8)\n",
      "Partícula 4: pos (2, 1)\n",
      "Partícula 5: pos (3, 3)\n",
      "Partícula 6: pos (5, 7)\n",
      "Partícula 7: pos (12, 5)\n",
      "Partícula 8: pos (5, 10)\n",
      "Partícula 9: pos (5, 13)\n",
      "Partícula 10: pos (0, 7)\n",
      "Partícula 11: pos (2, 6)\n",
      "Partícula 12: pos (5, 11)\n",
      "Partícula 13: pos (5, 15)\n",
      "Partícula 14: pos (8, 15)\n",
      "Partícula 15: pos (5, 9)\n",
      "Partícula 16: pos (5, 14)\n",
      "Partícula 17: pos (9, 18)\n"
     ]
    }
   ],
   "source": [
    "tamanio_grilla = 20\n",
    "grilla = generar_grilla(tamanio_grilla)\n",
    "grilla = colocar_solido(grilla, 5,5, 15, 15)\n",
    "cantidad_particulas = 18\n",
    "cantidad_pasos = 130\n",
    "particulas, posiciones_solido =simular_movimiento_browniano(cantidad_pasos, grilla, tamanio_grilla, tamanio_grilla, cantidad_particulas)"
   ]
  },
  {
   "cell_type": "code",
   "execution_count": 30,
   "metadata": {
    "cell_id": "a1a15727e11e4aa5a02fa9892f8d9f3a",
    "deepnote_cell_type": "code",
    "execution_context_id": "ea4c016d-158f-4035-8f14-cec70b23dd7a",
    "execution_millis": 1,
    "execution_start": 1727628083943,
    "source_hash": "7c889a0a"
   },
   "outputs": [
    {
     "name": "stdout",
     "output_type": "stream",
     "text": [
      "- - - - - - - P - - - - - - - - - - - -\n",
      "- - - - - - - - - P - - - - - - - - - -\n",
      "- P - - - - P - - - - - - - - - - - - -\n",
      "- - - P - - - - - - - - - - - - - - - -\n",
      "- - - - - - - - - - - - - - - - - - - -\n",
      "- - - - - # P P P P P P # P P P - - - -\n",
      "- - - - - # # # # # # # # # # # - - - -\n",
      "- - - - - # # # # # # # # # # # - - - -\n",
      "- - - - - # # # # # # # # # # P - - - -\n",
      "- - - - - # # # # # # # # # # # - - P -\n",
      "- - - - - # # # # # # # # # # # - - - -\n",
      "- - - - - P # # # # # # # # # # - - - -\n",
      "- - - - - P # # # # # # # # # # - - - -\n",
      "- - - - - # # # # # # # # # # # - - - -\n",
      "- - - - - # # # # # # # # # # # - - - -\n",
      "- - - - - # # # # # # # # # # # - - - -\n",
      "- - - - - - - - - - - - - - - - - - - -\n",
      "- - - - - - - - - - - - - - - - - - - -\n",
      "- - - - - - - - - - - - - - - - - - - -\n",
      "- - - - - - - - - - - - - - - - - - - -\n"
     ]
    }
   ],
   "source": [
    "#Estado grilla final \n",
    "\n",
    "for fila in grilla:\n",
    "    print(' '.join(map(str, fila)))"
   ]
  },
  {
   "cell_type": "code",
   "execution_count": 31,
   "metadata": {
    "cell_id": "bd2ae6d9858e45d1bf47f61d3c288824",
    "deepnote_cell_type": "code",
    "execution_context_id": "ea4c016d-158f-4035-8f14-cec70b23dd7a",
    "execution_millis": 6199,
    "execution_start": 1727628084013,
    "source_hash": "a37c5eb9"
   },
   "outputs": [
    {
     "name": "stderr",
     "output_type": "stream",
     "text": [
      "MovieWriter imagemagick unavailable; using Pillow instead.\n"
     ]
    },
    {
     "data": {
      "image/png": "[encoded data removed]",
      "text/plain": [
       "<Figure size 640x480 with 1 Axes>"
      ]
     },
     "metadata": {
      "image/png": {
       "height": 418,
       "width": 571
      }
     },
     "output_type": "display_data"
    }
   ],
   "source": [
    "import matplotlib.animation as animation\n",
    "\n",
    "def animar_movimiento(particulas, posiciones_solido, ancho_grilla, alto_grilla):\n",
    "    fig, ax = plt.subplots()\n",
    "    ax.set_xlim(0, ancho_grilla)\n",
    "    ax.set_ylim(0, alto_grilla)\n",
    "\n",
    "    # Crear puntos para las partículas en la grilla\n",
    "    puntos_particulas, = ax.plot([], [], 'bo') \n",
    "    puntos_solidos, = ax.plot([], [], 'gs') \n",
    "\n",
    "    def init():\n",
    "        #Inicializa vacía la grilla\n",
    "        puntos_particulas.set_data([], [])\n",
    "        puntos_solidos.set_data([], [])\n",
    "        return puntos_particulas, puntos_solidos,\n",
    "\n",
    "    def actualizar_puntos(frame):\n",
    "        \"\"\"Función para actualizar las posiciones de las partículas y los sólidos en cada frame\"\"\"\n",
    "        # Actualizar partículas\n",
    "        x_particulas = []\n",
    "        y_particulas = []\n",
    "\n",
    "        x_solidos = []\n",
    "        y_solidos = []\n",
    "        \n",
    "        for particula in particulas:\n",
    "            if frame < len(particula[\"trayectoria\"]):\n",
    "                pos = particula[\"trayectoria\"][frame]\n",
    "            else:\n",
    "                pos = particula[\"trayectoria\"][-1]  # Si ya terminó su recorrido, mantener la última posición\n",
    "\n",
    "            x_particulas.append(pos[0])\n",
    "            y_particulas.append(pos[1])\n",
    "\n",
    "       \n",
    "        # Actualizar los datos de los puntos\n",
    "       \n",
    "        if frame < len(posiciones_solido):\n",
    "            x_solidos = [pos[0] for pos in posiciones_solido[frame]]\n",
    "            y_solidos = [pos[1] for pos in posiciones_solido[frame]]\n",
    "        else:\n",
    "            x_solidos = [pos[0] for pos in posiciones_solido[-1]]\n",
    "            y_solidos = [pos[1] for pos in posiciones_solido[-1]]\n",
    "\n",
    "        puntos_solidos.set_data(x_solidos, y_solidos)\n",
    "        puntos_particulas.set_data(x_particulas, y_particulas)\n",
    "        \n",
    "        return puntos_particulas,puntos_solidos\n",
    "\n",
    "    # Crear la animación\n",
    "    pasos_maximos = max(len(particula[\"trayectoria\"]) for particula in particulas)\n",
    "    ani = animation.FuncAnimation(fig, actualizar_puntos, frames=pasos_maximos, init_func=init, interval=1000, blit=True)\n",
    "    ani.save('animacion.gif', writer='imagemagick', fps=10)\n",
    "\n",
    "    plt.show()\n",
    "   \n",
    "\n",
    "animar_movimiento(particulas, posiciones_solido, tamanio_grilla, tamanio_grilla)"
   ]
  },
  {
   "cell_type": "markdown",
   "metadata": {
    "cell_id": "ae07ee78afcd41529792d5d555e594d8",
    "deepnote_cell_type": "text-cell-p",
    "formattedRanges": [
     {
      "fromCodePoint": 0,
      "marks": {
       "bold": true
      },
      "toCodePoint": 34,
      "type": "marks"
     }
    ]
   },
   "source": [
    "Simulacion con consumo de solido 2"
   ]
  },
  {
   "cell_type": "markdown",
   "metadata": {
    "cell_id": "b32d4fcebe864757a1c93493c3c02b89",
    "deepnote_cell_type": "text-cell-p",
    "formattedRanges": []
   },
   "source": [
    "Ahora realizamos el mismo proceso pero cuando la párticula se adhiere al sólido, se consume."
   ]
  },
  {
   "cell_type": "code",
   "execution_count": 32,
   "metadata": {
    "allow_embed": false,
    "cell_id": "9d3566554f5b4cee8cb0f7416b629766",
    "deepnote_cell_type": "code",
    "execution_context_id": "ea4c016d-158f-4035-8f14-cec70b23dd7a",
    "execution_millis": 1,
    "execution_start": 1727628090275,
    "source_hash": "897ea059"
   },
   "outputs": [],
   "source": [
    "def simular_movimiento_browniano_2(pasos, grilla ,ancho_grilla, alto_grilla, cantidad_particulas):\n",
    "\n",
    "    particulas = []\n",
    "    posiciones_solido = []\n",
    "\n",
    "    for i in range(cantidad_particulas):\n",
    "        particulas.append({\n",
    "            \"pos_actual\" : (0,(0 + i) ), #reveer esto\n",
    "            \"estado_anterior\": grilla[0][0],\n",
    "            \"semilla_mov_x\": 1000 + i * 100,\n",
    "            \"semilla_mov_y\": 2000 + i * 100,\n",
    "            \"semilla_tipo_de_movimiento\": 300 + i * 100,\n",
    "            \"semilla_adherencia\": 400 + i * 100,\n",
    "            \"adherida\": False,\n",
    "            \"trayectoria\": [],\n",
    "        })\n",
    "\n",
    "\n",
    "    for i in range(pasos):\n",
    "\n",
    "        particulas_no_adheridas = [p for p in particulas if not p[\"adherida\"]]\n",
    "\n",
    "        posiciones_solido_paso = [\n",
    "            (x, y) for x in range(ancho_grilla) for y in range(alto_grilla) if grilla[x][y] == SOLIDO\n",
    "        ]\n",
    "        posiciones_solido.append(posiciones_solido_paso)\n",
    "\n",
    "        for j, particula in enumerate(particulas_no_adheridas):\n",
    "            #print(\"Particula {}: {}\".format(j, particula[\"pos_actual\"])) \n",
    "            particula[\"trayectoria\"].append(particula[\"pos_actual\"])\n",
    "            movimiento_horizontal = 0\n",
    "            movimiento_vertical = 0\n",
    "            es_pos_valida = False\n",
    "            pos_anterior = particula[\"pos_actual\"]\n",
    "\n",
    "            while not es_pos_valida:\n",
    "                movimiento_horizontal = 0\n",
    "                movimiento_vertical = 0\n",
    "\n",
    "                if (determinar_tipo_de_movimiento(particula[\"semilla_tipo_de_movimiento\"]) == MOVIMIENTO_HORIZONTAL):\n",
    "                    movimiento_horizontal = determinar_movimiento_horizontal(particula[\"semilla_mov_x\"])\n",
    "                else:\n",
    "                    movimiento_vertical = determinar_movimiento_vertical(particula[\"semilla_mov_y\"])            \n",
    "   \n",
    "                particula[\"semilla_mov_x\"] += 1\n",
    "                particula[\"semilla_mov_y\"] += 1\n",
    "                particula[\"semilla_tipo_de_movimiento\"] += 1\n",
    "\n",
    "                pos_anterior = particula[\"pos_actual\"]\n",
    "                proxima_posicion = (particula[\"pos_actual\"][0] + movimiento_horizontal, particula[\"pos_actual\"][1] + movimiento_vertical)\n",
    "\n",
    "                if esta_dentro_de_los_limites(proxima_posicion, ancho_grilla, alto_grilla) and grilla[proxima_posicion[0]][proxima_posicion[1]] != PARTICULA:\n",
    "                    es_pos_valida = True\n",
    "                    grilla[particula[\"pos_actual\"][0]][particula[\"pos_actual\"][1]] = particula[\"estado_anterior\"]\n",
    "                    particula[\"estado_anterior\"] = grilla[proxima_posicion[0]][proxima_posicion[1]]\n",
    "                    particula[\"pos_actual\"] = proxima_posicion     \n",
    "\n",
    "            if grilla[particula[\"pos_actual\"][0]][particula[\"pos_actual\"][1]] == AIRE:\n",
    "                grilla[particula[\"pos_actual\"][0]][particula[\"pos_actual\"][1]] = PARTICULA\n",
    "            \n",
    "            elif grilla[particula[\"pos_actual\"][0]][particula[\"pos_actual\"][1]] == SOLIDO:\n",
    "                \n",
    "                if hubo_adherencia(particula[\"semilla_adherencia\"]):\n",
    "                    grilla[particula[\"pos_actual\"][0]][particula[\"pos_actual\"][1]] = AIRE\n",
    "                    particula[\"adherida\"] = True \n",
    "                    print(\"Partícula {}: HUBO ADHERENCIA, paso {}, estado_anterior {}\".format(j, i, particula[\"estado_anterior\"]))\n",
    "                    break\n",
    "                else:\n",
    "                    print(\"Partícula {}: NO HUBO ADHERENCIA, paso {}, posicion actual: {}, posicion rebote: {}\".format(j, i, particula[\"pos_actual\"], pos_anterior))\n",
    "                    # reseto el estado donde estaba la particula\n",
    "                    particula[\"estado_anterior\"] = grilla[pos_anterior[0]][pos_anterior[1]]\n",
    "                    # reseteo la posicion \n",
    "                    particula[\"pos_actual\"] = pos_anterior\n",
    "                    # reboto la particula\n",
    "                    grilla[particula[\"pos_actual\"][0]][particula[\"pos_actual\"][1]] = PARTICULA\n",
    "                    particula[\"semilla_adherencia\"] += 2\n",
    "                        \n",
    "    for i, particula in enumerate(particulas):\n",
    "        particula[\"trayectoria\"].append(particula[\"pos_actual\"])\n",
    "\n",
    "    return particulas, posiciones_solido"
   ]
  },
  {
   "cell_type": "code",
   "execution_count": 33,
   "metadata": {
    "cell_id": "64e41f1b6b09453aa3633f384a16c67e",
    "deepnote_cell_type": "code",
    "execution_context_id": "ea4c016d-158f-4035-8f14-cec70b23dd7a",
    "execution_millis": 1,
    "execution_start": 1727628090327,
    "source_hash": "8022301d"
   },
   "outputs": [
    {
     "name": "stdout",
     "output_type": "stream",
     "text": [
      "Partícula 9: NO HUBO ADHERENCIA, paso 6, posicion actual: (5, 7), posicion rebote: (4, 7)\n",
      "Partícula 9: NO HUBO ADHERENCIA, paso 9, posicion actual: (5, 9), posicion rebote: (4, 9)\n",
      "Partícula 3: NO HUBO ADHERENCIA, paso 12, posicion actual: (5, 7), posicion rebote: (4, 7)\n",
      "Partícula 12: HUBO ADHERENCIA, paso 15, estado_anterior #\n",
      "Partícula 3: HUBO ADHERENCIA, paso 16, estado_anterior #\n",
      "Partícula 11: HUBO ADHERENCIA, paso 18, estado_anterior #\n",
      "Partícula 1: NO HUBO ADHERENCIA, paso 19, posicion actual: (5, 6), posicion rebote: (4, 6)\n",
      "Partícula 1: HUBO ADHERENCIA, paso 20, estado_anterior #\n",
      "Partícula 6: HUBO ADHERENCIA, paso 24, estado_anterior #\n",
      "Partícula 11: HUBO ADHERENCIA, paso 33, estado_anterior #\n",
      "Partícula 10: NO HUBO ADHERENCIA, paso 35, posicion actual: (5, 9), posicion rebote: (4, 9)\n",
      "Partícula 1: NO HUBO ADHERENCIA, paso 40, posicion actual: (5, 5), posicion rebote: (4, 5)\n",
      "Partícula 1: NO HUBO ADHERENCIA, paso 41, posicion actual: (5, 5), posicion rebote: (4, 5)\n",
      "Partícula 1: NO HUBO ADHERENCIA, paso 42, posicion actual: (5, 5), posicion rebote: (4, 5)\n",
      "Partícula 10: NO HUBO ADHERENCIA, paso 42, posicion actual: (5, 9), posicion rebote: (4, 9)\n",
      "Partícula 10: HUBO ADHERENCIA, paso 47, estado_anterior #\n",
      "Partícula 4: HUBO ADHERENCIA, paso 49, estado_anterior #\n",
      "Partícula 6: NO HUBO ADHERENCIA, paso 62, posicion actual: (6, 11), posicion rebote: (5, 11)\n",
      "Partícula 6: NO HUBO ADHERENCIA, paso 65, posicion actual: (5, 12), posicion rebote: (4, 12)\n",
      "Partícula 1: NO HUBO ADHERENCIA, paso 67, posicion actual: (5, 5), posicion rebote: (4, 5)\n",
      "Partícula 0: NO HUBO ADHERENCIA, paso 86, posicion actual: (6, 9), posicion rebote: (5, 9)\n",
      "Partícula 5: HUBO ADHERENCIA, paso 86, estado_anterior #\n",
      "Partícula 0: HUBO ADHERENCIA, paso 89, estado_anterior #\n",
      "Partícula 0: NO HUBO ADHERENCIA, paso 94, posicion actual: (8, 5), posicion rebote: (8, 4)\n",
      "Partícula 5: HUBO ADHERENCIA, paso 95, estado_anterior #\n",
      "Partícula 0: NO HUBO ADHERENCIA, paso 96, posicion actual: (9, 5), posicion rebote: (9, 4)\n",
      "Partícula 0: NO HUBO ADHERENCIA, paso 98, posicion actual: (10, 5), posicion rebote: (10, 4)\n",
      "Partícula 0: NO HUBO ADHERENCIA, paso 100, posicion actual: (11, 5), posicion rebote: (11, 4)\n",
      "Partícula 0: NO HUBO ADHERENCIA, paso 102, posicion actual: (12, 5), posicion rebote: (12, 4)\n",
      "Partícula 0: NO HUBO ADHERENCIA, paso 104, posicion actual: (11, 5), posicion rebote: (11, 4)\n",
      "Partícula 0: HUBO ADHERENCIA, paso 105, estado_anterior #\n",
      "Partícula 0: NO HUBO ADHERENCIA, paso 106, posicion actual: (6, 5), posicion rebote: (5, 5)\n",
      "Partícula 4: NO HUBO ADHERENCIA, paso 121, posicion actual: (6, 14), posicion rebote: (6, 15)\n",
      "Partícula 4: NO HUBO ADHERENCIA, paso 122, posicion actual: (6, 14), posicion rebote: (6, 15)\n",
      "Partícula 2: NO HUBO ADHERENCIA, paso 123, posicion actual: (13, 5), posicion rebote: (13, 4)\n",
      "Partícula 2: NO HUBO ADHERENCIA, paso 124, posicion actual: (13, 5), posicion rebote: (13, 4)\n",
      "Partícula 4: HUBO ADHERENCIA, paso 125, estado_anterior #\n",
      "Partícula 2: HUBO ADHERENCIA, paso 126, estado_anterior #\n"
     ]
    }
   ],
   "source": [
    "\n",
    "grilla2 = generar_grilla(tamanio_grilla)\n",
    "grilla2 = colocar_solido(grilla2, 5,5, 15, 15)\n",
    "\n",
    "particulas2, posiciones_solido2 =simular_movimiento_browniano_2(cantidad_pasos, grilla2, tamanio_grilla, tamanio_grilla, cantidad_particulas)"
   ]
  },
  {
   "cell_type": "code",
   "execution_count": 34,
   "metadata": {
    "allow_embed": false,
    "cell_id": "f0584f4cfa934620808b0a8d62dd56ec",
    "deepnote_cell_type": "code",
    "execution_context_id": "ea4c016d-158f-4035-8f14-cec70b23dd7a",
    "execution_millis": 1,
    "execution_start": 1727628090375,
    "source_hash": "9193ae2a"
   },
   "outputs": [
    {
     "name": "stdout",
     "output_type": "stream",
     "text": [
      "- - - - - - - - - - - - - - - - - - - -\n",
      "P - - - - - - - - P - - - - - - - - - -\n",
      "- - - - - - - - - - - - - - - - - - - -\n",
      "- - - - - - - - - - - - - - - - - - - -\n",
      "- - - P - - - - - - - - - - - - - - - -\n",
      "- - - - - - - - - - - - - # # - - - P -\n",
      "- - - - - # # - # # # # # # - - - - - -\n",
      "- - - - - # # # # # # # # # # # - - - -\n",
      "- - - - - # # # # # # # # # # # - - - -\n",
      "- - - - - # # # # # # # # # # # - - - -\n",
      "- - - - - # # # # # # # # # # # - - - -\n",
      "- - - - - - # # # # # # # # # # - - - -\n",
      "- - - - - - # # # # # # # # # # - - - -\n",
      "- - - - - # # # # # # # # # # # - - - -\n",
      "- - - - - # # # # # # # # # # # - - - -\n",
      "- - - - - # # # # # # # # # # # - - - -\n",
      "- - - - - - - - - - - - - - - - - - - -\n",
      "- - - - - - - - - - - - - - - - - - - -\n",
      "- - - - - - - - - - - - - - - - - - - -\n",
      "- - - - - - - - - - - - - - - - - - - -\n"
     ]
    }
   ],
   "source": [
    "#Estado grilla final \n",
    "for fila in grilla2:\n",
    "    print(' '.join(map(str, fila)))"
   ]
  },
  {
   "cell_type": "code",
   "execution_count": 35,
   "metadata": {
    "allow_embed": false,
    "cell_id": "3a1ba13a252b47f0906bb7ebc0d34724",
    "deepnote_cell_type": "code",
    "execution_context_id": "ea4c016d-158f-4035-8f14-cec70b23dd7a",
    "execution_millis": 5785,
    "execution_start": 1727628090431,
    "source_hash": "5d230c28"
   },
   "outputs": [
    {
     "name": "stderr",
     "output_type": "stream",
     "text": [
      "MovieWriter imagemagick unavailable; using Pillow instead.\n"
     ]
    },
    {
     "data": {
      "image/png": "[encoded data removed]",
      "text/plain": [
       "<Figure size 640x480 with 1 Axes>"
      ]
     },
     "metadata": {
      "image/png": {
       "height": 418,
       "width": 571
      }
     },
     "output_type": "display_data"
    }
   ],
   "source": [
    "import matplotlib.animation as animation\n",
    "\n",
    "def animar_movimiento_2(particulas, posiciones_solido, ancho_grilla, alto_grilla):\n",
    "    fig, ax = plt.subplots()\n",
    "    ax.set_xlim(0, ancho_grilla)\n",
    "    ax.set_ylim(0, alto_grilla)\n",
    "\n",
    "    # Crear puntos para las partículas en la grilla\n",
    "    puntos_particulas, = ax.plot([], [], 'bo') \n",
    "    puntos_solidos, = ax.plot([], [], 'gs') \n",
    "\n",
    "    def init():\n",
    "        #Inicializa vacía la grilla\n",
    "        puntos_particulas.set_data([], [])\n",
    "        puntos_solidos.set_data([], [])\n",
    "        return puntos_particulas, puntos_solidos,\n",
    "\n",
    "    def actualizar_puntos(frame):\n",
    "        \"\"\"Función para actualizar las posiciones de las partículas y los sólidos en cada frame\"\"\"\n",
    "        # Actualizar partículas\n",
    "        x_particulas = []\n",
    "        y_particulas = []\n",
    "\n",
    "        x_solidos = []\n",
    "        y_solidos = []\n",
    "        \n",
    "        for particula in particulas:\n",
    "            if frame < len(particula[\"trayectoria\"]):\n",
    "                pos = particula[\"trayectoria\"][frame]\n",
    "\n",
    "                x_particulas.append(pos[0])\n",
    "                y_particulas.append(pos[1])\n",
    "\n",
    "       \n",
    "        # Actualizar los datos de los puntos\n",
    "       \n",
    "        if frame < len(posiciones_solido):\n",
    "            x_solidos = [pos[0] for pos in posiciones_solido[frame]]\n",
    "            y_solidos = [pos[1] for pos in posiciones_solido[frame]]\n",
    "        else:\n",
    "            x_solidos = [pos[0] for pos in posiciones_solido[-1]]\n",
    "            y_solidos = [pos[1] for pos in posiciones_solido[-1]]\n",
    "\n",
    "        puntos_solidos.set_data(x_solidos, y_solidos)\n",
    "        puntos_particulas.set_data(x_particulas, y_particulas)\n",
    "        \n",
    "        return puntos_particulas,puntos_solidos\n",
    "\n",
    "    # Crear la animación\n",
    "    pasos_maximos = max(len(particula[\"trayectoria\"]) for particula in particulas2)\n",
    "    ani = animation.FuncAnimation(fig, actualizar_puntos, frames=pasos_maximos, init_func=init, interval=1000, blit=True)\n",
    "    ani.save('animacion2.gif', writer='imagemagick', fps=10)\n",
    "\n",
    "    plt.show()\n",
    "   \n",
    "\n",
    "animar_movimiento_2(particulas2, posiciones_solido2, tamanio_grilla, tamanio_grilla)"
   ]
  },
  {
   "cell_type": "markdown",
   "metadata": {
    "cell_id": "67094679d8f44e25be3c67685830fe79",
    "deepnote_cell_type": "text-cell-h2",
    "formattedRanges": []
   },
   "source": [
    "## Generación de números aleatorios para grupo 2"
   ]
  },
  {
   "cell_type": "code",
   "execution_count": null,
   "metadata": {
    "cell_id": "46eeb82238f0438d8f17abcd7f6b5a61",
    "deepnote_cell_type": "code"
   },
   "outputs": [],
   "source": [
    "import numpy as np\n",
    "from scipy.stats import chi2\n",
    "\n",
    "# Parámetros\n",
    "seed = 345  # Semilla\n",
    "m = 2**32  \n",
    "a = 1664525  \n",
    "c = 1013904223  \n",
    "n = 1000000 \n",
    "\n",
    "numeros_exportar = []\n",
    "x = seed\n",
    "for _ in range(n):\n",
    "    x = (a * x + c) % m  \n",
    "    pcg_num = pcg_rxs_m_xs(x) / 4294967296.0  \n",
    "    numeros_exportar.append(pcg_num)\n",
    "\n",
    "import matplotlib.pyplot as plt\n",
    "bin_count, bin_edges, _ = plt.hist(numeros_exportar, bins=10, edgecolor='black')\n",
    "plt.title('Histograma de random_numbers')\n",
    "plt.xlabel('Valor')\n",
    "plt.ylabel('Frecuencia')\n",
    "plt.show()\n",
    "#mostramos cuantos elementos hay en cada bin\n",
    "print(bin_count)"
   ]
  },
  {
   "cell_type": "code",
   "execution_count": 37,
   "metadata": {
    "cell_id": "a35c6b10f37d48249074c8d8c67acfea",
    "deepnote_cell_type": "code",
    "execution_context_id": "ea4c016d-158f-4035-8f14-cec70b23dd7a",
    "execution_millis": 22,
    "execution_start": 1727628099880,
    "source_hash": "cb64c9b"
   },
   "outputs": [],
   "source": [
    "#export\n",
    "import pandas as pd\n",
    "df = pd.DataFrame(numeros_exportar)\n",
    "\n",
    "# Export as CSV\n",
    "# df.to_csv('numeros_grupo2.csv', index=False)\n"
   ]
  },
  {
   "cell_type": "markdown",
   "metadata": {
    "created_in_deepnote_cell": true,
    "deepnote_cell_type": "markdown"
   },
   "source": [
    "<a style='text-decoration:none;line-height:16px;display:flex;color:#5B5B62;padding:10px;justify-content:end;' href='https://deepnote.com?utm_source=created-in-deepnote-cell&projectId=900e2a80-c968-462a-bf88-a1c3d53e63b0' target=\"_blank\">\n",
    "<img alt='Created in deepnote.com' style='display:inline;max-height:16px;margin:0px;margin-right:7.5px;' src='data:image/svg+xml;base64,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' > </img>\n",
    "Created in <span style='font-weight:600;margin-left:4px;'>Deepnote</span></a>"
   ]
  }
 ],
 "metadata": {
  "deepnote_execution_queue": [],
  "deepnote_notebook_id": "3c6a47318c1b4973b8e5cb3808a2d901",
  "kernelspec": {
   "display_name": "Python 3 (ipykernel)",
   "language": "python",
   "name": "python3"
  },
  "language_info": {
   "codemirror_mode": {
    "name": "ipython",
    "version": 3
   },
   "file_extension": ".py",
   "mimetype": "text/x-python",
   "name": "python",
   "nbconvert_exporter": "python",
   "pygments_lexer": "ipython3",
   "version": "3.10.12"
  }
 },
 "nbformat": 4,
 "nbformat_minor": 4
}
